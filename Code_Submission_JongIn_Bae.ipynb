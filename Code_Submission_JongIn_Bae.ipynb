{
 "cells": [
  {
   "cell_type": "code",
   "execution_count": 1,
   "id": "04ff21a2",
   "metadata": {},
   "outputs": [],
   "source": [
    "#!pip install numpy\n",
    "import pandas as pd\n",
    "import os\n",
    "import seaborn as sns\n",
    "import matplotlib.pyplot as plt\n",
    "import numpy as np\n",
    "%matplotlib inline"
   ]
  },
  {
   "cell_type": "code",
   "execution_count": 2,
   "id": "6c358c1b",
   "metadata": {},
   "outputs": [
    {
     "data": {
      "text/html": [
       "<div>\n",
       "<style scoped>\n",
       "    .dataframe tbody tr th:only-of-type {\n",
       "        vertical-align: middle;\n",
       "    }\n",
       "\n",
       "    .dataframe tbody tr th {\n",
       "        vertical-align: top;\n",
       "    }\n",
       "\n",
       "    .dataframe thead th {\n",
       "        text-align: right;\n",
       "    }\n",
       "</style>\n",
       "<table border=\"1\" class=\"dataframe\">\n",
       "  <thead>\n",
       "    <tr style=\"text-align: right;\">\n",
       "      <th></th>\n",
       "      <th>ID</th>\n",
       "      <th>Outcome</th>\n",
       "      <th>Survival.Months</th>\n",
       "      <th>Age</th>\n",
       "      <th>Grade</th>\n",
       "      <th>Num.Primaries</th>\n",
       "      <th>T</th>\n",
       "      <th>N</th>\n",
       "      <th>M</th>\n",
       "      <th>Radiation</th>\n",
       "      <th>Stage</th>\n",
       "      <th>Primary.Site</th>\n",
       "      <th>Histology</th>\n",
       "      <th>Tumor.Size</th>\n",
       "      <th>Num.Mutated.Genes</th>\n",
       "      <th>Num.Mutations</th>\n",
       "    </tr>\n",
       "  </thead>\n",
       "  <tbody>\n",
       "    <tr>\n",
       "      <th>0</th>\n",
       "      <td>1</td>\n",
       "      <td>Alive</td>\n",
       "      <td>9.0</td>\n",
       "      <td>67</td>\n",
       "      <td>4</td>\n",
       "      <td>0</td>\n",
       "      <td>UNK</td>\n",
       "      <td>2.0</td>\n",
       "      <td>NaN</td>\n",
       "      <td>0</td>\n",
       "      <td>IV</td>\n",
       "      <td>Left Lower Lobe</td>\n",
       "      <td>Squamous cell carcinoma</td>\n",
       "      <td>1.4</td>\n",
       "      <td>8</td>\n",
       "      <td>8</td>\n",
       "    </tr>\n",
       "    <tr>\n",
       "      <th>1</th>\n",
       "      <td>2</td>\n",
       "      <td>Dead</td>\n",
       "      <td>19.0</td>\n",
       "      <td>73</td>\n",
       "      <td>2</td>\n",
       "      <td>0</td>\n",
       "      <td>UNK</td>\n",
       "      <td>2.0</td>\n",
       "      <td>0.0</td>\n",
       "      <td>5</td>\n",
       "      <td>IV</td>\n",
       "      <td>Right Upper Lobe</td>\n",
       "      <td>Adenocarcinoma</td>\n",
       "      <td>NaN</td>\n",
       "      <td>2</td>\n",
       "      <td>2</td>\n",
       "    </tr>\n",
       "    <tr>\n",
       "      <th>2</th>\n",
       "      <td>3</td>\n",
       "      <td>Dead</td>\n",
       "      <td>13.0</td>\n",
       "      <td>72</td>\n",
       "      <td>3</td>\n",
       "      <td>0</td>\n",
       "      <td>2</td>\n",
       "      <td>2.0</td>\n",
       "      <td>0.0</td>\n",
       "      <td>0</td>\n",
       "      <td>IIIA</td>\n",
       "      <td>Right Upper Lobe</td>\n",
       "      <td>Adenocarcinoma</td>\n",
       "      <td>1.5</td>\n",
       "      <td>1</td>\n",
       "      <td>1</td>\n",
       "    </tr>\n",
       "    <tr>\n",
       "      <th>3</th>\n",
       "      <td>4</td>\n",
       "      <td>Dead</td>\n",
       "      <td>15.0</td>\n",
       "      <td>69</td>\n",
       "      <td>9</td>\n",
       "      <td>1</td>\n",
       "      <td>1a</td>\n",
       "      <td>0.0</td>\n",
       "      <td>1.0</td>\n",
       "      <td>0</td>\n",
       "      <td>IA</td>\n",
       "      <td>Right Upper Lobe</td>\n",
       "      <td>Adenocarcinoma</td>\n",
       "      <td>NaN</td>\n",
       "      <td>4</td>\n",
       "      <td>4</td>\n",
       "    </tr>\n",
       "    <tr>\n",
       "      <th>4</th>\n",
       "      <td>5</td>\n",
       "      <td>Dead</td>\n",
       "      <td>10.0</td>\n",
       "      <td>76</td>\n",
       "      <td>9</td>\n",
       "      <td>0</td>\n",
       "      <td>UNK</td>\n",
       "      <td>NaN</td>\n",
       "      <td>NaN</td>\n",
       "      <td>0</td>\n",
       "      <td>IIIA</td>\n",
       "      <td>Left Hilar</td>\n",
       "      <td>Large-cell carcinoma</td>\n",
       "      <td>NaN</td>\n",
       "      <td>3</td>\n",
       "      <td>3</td>\n",
       "    </tr>\n",
       "    <tr>\n",
       "      <th>5</th>\n",
       "      <td>6</td>\n",
       "      <td>Dead</td>\n",
       "      <td>11.0</td>\n",
       "      <td>62</td>\n",
       "      <td>9</td>\n",
       "      <td>0</td>\n",
       "      <td>3</td>\n",
       "      <td>2.0</td>\n",
       "      <td>NaN</td>\n",
       "      <td>0</td>\n",
       "      <td>IVB</td>\n",
       "      <td>Left Hilar</td>\n",
       "      <td>Adenocarcinoma</td>\n",
       "      <td>NaN</td>\n",
       "      <td>4</td>\n",
       "      <td>5</td>\n",
       "    </tr>\n",
       "    <tr>\n",
       "      <th>6</th>\n",
       "      <td>7</td>\n",
       "      <td>Dead</td>\n",
       "      <td>13.0</td>\n",
       "      <td>72</td>\n",
       "      <td>2</td>\n",
       "      <td>0</td>\n",
       "      <td>4</td>\n",
       "      <td>NaN</td>\n",
       "      <td>1.0</td>\n",
       "      <td>5</td>\n",
       "      <td>IV</td>\n",
       "      <td>Right Hilar</td>\n",
       "      <td>Adenocarcinoma</td>\n",
       "      <td>5.5</td>\n",
       "      <td>4</td>\n",
       "      <td>4</td>\n",
       "    </tr>\n",
       "    <tr>\n",
       "      <th>7</th>\n",
       "      <td>8</td>\n",
       "      <td>Dead</td>\n",
       "      <td>13.0</td>\n",
       "      <td>72</td>\n",
       "      <td>2</td>\n",
       "      <td>0</td>\n",
       "      <td>3</td>\n",
       "      <td>NaN</td>\n",
       "      <td>0.0</td>\n",
       "      <td>0</td>\n",
       "      <td>IIA</td>\n",
       "      <td>Right Upper Lobe</td>\n",
       "      <td>Adenocarcinoma</td>\n",
       "      <td>2.0</td>\n",
       "      <td>2</td>\n",
       "      <td>2</td>\n",
       "    </tr>\n",
       "    <tr>\n",
       "      <th>8</th>\n",
       "      <td>9</td>\n",
       "      <td>Dead</td>\n",
       "      <td>19.0</td>\n",
       "      <td>72</td>\n",
       "      <td>9</td>\n",
       "      <td>0</td>\n",
       "      <td>4</td>\n",
       "      <td>NaN</td>\n",
       "      <td>0.0</td>\n",
       "      <td>0</td>\n",
       "      <td>IIA</td>\n",
       "      <td>Right Upper Lobe</td>\n",
       "      <td>Squamous cell carcinoma</td>\n",
       "      <td>2.0</td>\n",
       "      <td>3</td>\n",
       "      <td>3</td>\n",
       "    </tr>\n",
       "    <tr>\n",
       "      <th>9</th>\n",
       "      <td>10</td>\n",
       "      <td>Alive</td>\n",
       "      <td>9.0</td>\n",
       "      <td>83</td>\n",
       "      <td>3</td>\n",
       "      <td>0</td>\n",
       "      <td>UNK</td>\n",
       "      <td>NaN</td>\n",
       "      <td>NaN</td>\n",
       "      <td>5</td>\n",
       "      <td>IV</td>\n",
       "      <td>Left Upper Lobe</td>\n",
       "      <td>Squamous cell carcinoma</td>\n",
       "      <td>NaN</td>\n",
       "      <td>3</td>\n",
       "      <td>3</td>\n",
       "    </tr>\n",
       "  </tbody>\n",
       "</table>\n",
       "</div>"
      ],
      "text/plain": [
       "   ID Outcome  Survival.Months  Age  Grade  Num.Primaries    T    N    M  \\\n",
       "0   1   Alive              9.0   67      4              0  UNK  2.0  NaN   \n",
       "1   2    Dead             19.0   73      2              0  UNK  2.0  0.0   \n",
       "2   3    Dead             13.0   72      3              0    2  2.0  0.0   \n",
       "3   4    Dead             15.0   69      9              1   1a  0.0  1.0   \n",
       "4   5    Dead             10.0   76      9              0  UNK  NaN  NaN   \n",
       "5   6    Dead             11.0   62      9              0    3  2.0  NaN   \n",
       "6   7    Dead             13.0   72      2              0    4  NaN  1.0   \n",
       "7   8    Dead             13.0   72      2              0    3  NaN  0.0   \n",
       "8   9    Dead             19.0   72      9              0    4  NaN  0.0   \n",
       "9  10   Alive              9.0   83      3              0  UNK  NaN  NaN   \n",
       "\n",
       "   Radiation Stage      Primary.Site                Histology  Tumor.Size  \\\n",
       "0          0    IV   Left Lower Lobe  Squamous cell carcinoma         1.4   \n",
       "1          5    IV  Right Upper Lobe           Adenocarcinoma         NaN   \n",
       "2          0  IIIA  Right Upper Lobe           Adenocarcinoma         1.5   \n",
       "3          0    IA  Right Upper Lobe           Adenocarcinoma         NaN   \n",
       "4          0  IIIA        Left Hilar     Large-cell carcinoma         NaN   \n",
       "5          0   IVB        Left Hilar           Adenocarcinoma         NaN   \n",
       "6          5    IV       Right Hilar           Adenocarcinoma         5.5   \n",
       "7          0   IIA  Right Upper Lobe           Adenocarcinoma         2.0   \n",
       "8          0   IIA  Right Upper Lobe  Squamous cell carcinoma         2.0   \n",
       "9          5    IV   Left Upper Lobe  Squamous cell carcinoma         NaN   \n",
       "\n",
       "   Num.Mutated.Genes  Num.Mutations  \n",
       "0                  8              8  \n",
       "1                  2              2  \n",
       "2                  1              1  \n",
       "3                  4              4  \n",
       "4                  3              3  \n",
       "5                  4              5  \n",
       "6                  4              4  \n",
       "7                  2              2  \n",
       "8                  3              3  \n",
       "9                  3              3  "
      ]
     },
     "execution_count": 2,
     "metadata": {},
     "output_type": "execute_result"
    }
   ],
   "source": [
    "df_orig =pd.read_csv('clinical.csv')\n",
    "df_orig.head(10)"
   ]
  },
  {
   "cell_type": "code",
   "execution_count": 44,
   "id": "15e6914f",
   "metadata": {},
   "outputs": [],
   "source": [
    "df = pd.read_csv('clinical.csv')\n",
    "df2 = pd.read_csv('clinical.csv')\n",
    "df_gene = pd.read_csv('genomics.csv')"
   ]
  },
  {
   "cell_type": "code",
   "execution_count": 45,
   "id": "d191ccac",
   "metadata": {},
   "outputs": [
    {
     "name": "stdout",
     "output_type": "stream",
     "text": [
      "ID                    0\n",
      "Outcome               0\n",
      "Survival.Months       0\n",
      "Age                   0\n",
      "Grade                 0\n",
      "Num.Primaries         0\n",
      "T                     0\n",
      "N                    65\n",
      "M                    96\n",
      "Radiation             0\n",
      "Stage                 0\n",
      "Primary.Site          0\n",
      "Histology             0\n",
      "Tumor.Size           92\n",
      "Num.Mutated.Genes     0\n",
      "Num.Mutations         0\n",
      "dtype: int64\n",
      "ID      0\n",
      "Gene    0\n",
      "dtype: int64\n"
     ]
    }
   ],
   "source": [
    "print(df.isna().sum())\n",
    "print(df_gene.isna().sum())"
   ]
  },
  {
   "cell_type": "markdown",
   "id": "1bbbb090",
   "metadata": {},
   "source": [
    "# Extract Significant Genes from Genomics Dataset"
   ]
  },
  {
   "cell_type": "code",
   "execution_count": 46,
   "id": "066bdf40",
   "metadata": {},
   "outputs": [
    {
     "name": "stderr",
     "output_type": "stream",
     "text": [
      "C:\\Users\\jbae42\\AppData\\Local\\Temp/ipykernel_22624/998031329.py:12: SettingWithCopyWarning: \n",
      "A value is trying to be set on a copy of a slice from a DataFrame.\n",
      "Try using .loc[row_indexer,col_indexer] = value instead\n",
      "\n",
      "See the caveats in the documentation: https://pandas.pydata.org/pandas-docs/stable/user_guide/indexing.html#returning-a-view-versus-a-copy\n",
      "  df_com['Outcome'] = df2['Outcome']\n",
      "C:\\Users\\jbae42\\AppData\\Local\\Temp/ipykernel_22624/998031329.py:17: SettingWithCopyWarning: \n",
      "A value is trying to be set on a copy of a slice from a DataFrame.\n",
      "Try using .loc[row_indexer,col_indexer] = value instead\n",
      "\n",
      "See the caveats in the documentation: https://pandas.pydata.org/pandas-docs/stable/user_guide/indexing.html#returning-a-view-versus-a-copy\n",
      "  df_com['Outcome'] = df_com['Outcome'].map(outcome_dict)\n"
     ]
    }
   ],
   "source": [
    "genes = df_gene.Gene.unique()\n",
    "for gene in genes:\n",
    "    df2[gene] = 0\n",
    "    \n",
    "for patient_id in df_gene['ID'].unique():\n",
    "    df_temp = df_gene[df_gene['ID']==patient_id]\n",
    "    for gene in df_temp['Gene'].unique():\n",
    "        df2.loc[df['ID']==patient_id,gene] = 1\n",
    "\n",
    "\n",
    "df_com = df2[genes]\n",
    "df_com['Outcome'] = df2['Outcome']\n",
    "\n",
    "outcome_dict = dict()\n",
    "outcome_dict['Alive'] = 1\n",
    "outcome_dict['Dead'] = 0\n",
    "df_com['Outcome'] = df_com['Outcome'].map(outcome_dict)"
   ]
  },
  {
   "cell_type": "markdown",
   "id": "3c276471",
   "metadata": {},
   "source": [
    "## Testing the significance between cateorical variables with Chi-Square test"
   ]
  },
  {
   "cell_type": "code",
   "execution_count": 47,
   "id": "2d70dfd9",
   "metadata": {},
   "outputs": [
    {
     "data": {
      "text/html": [
       "<div>\n",
       "<style scoped>\n",
       "    .dataframe tbody tr th:only-of-type {\n",
       "        vertical-align: middle;\n",
       "    }\n",
       "\n",
       "    .dataframe tbody tr th {\n",
       "        vertical-align: top;\n",
       "    }\n",
       "\n",
       "    .dataframe thead th {\n",
       "        text-align: right;\n",
       "    }\n",
       "</style>\n",
       "<table border=\"1\" class=\"dataframe\">\n",
       "  <thead>\n",
       "    <tr style=\"text-align: right;\">\n",
       "      <th></th>\n",
       "      <th>AKT1</th>\n",
       "      <th>ALK_Col1</th>\n",
       "      <th>ALK_Col2</th>\n",
       "      <th>APC</th>\n",
       "      <th>ATM_Col1</th>\n",
       "      <th>ATM_Col2</th>\n",
       "      <th>BRAF</th>\n",
       "      <th>CCND2</th>\n",
       "      <th>CDKN2A</th>\n",
       "      <th>CTNNB1</th>\n",
       "      <th>...</th>\n",
       "      <th>RB1</th>\n",
       "      <th>SMARCA4</th>\n",
       "      <th>SMARCB1</th>\n",
       "      <th>SMO</th>\n",
       "      <th>STK11</th>\n",
       "      <th>TERT</th>\n",
       "      <th>TP53_Col1</th>\n",
       "      <th>TP53_Col2</th>\n",
       "      <th>TSC2</th>\n",
       "      <th>Outcome</th>\n",
       "    </tr>\n",
       "  </thead>\n",
       "  <tbody>\n",
       "    <tr>\n",
       "      <th>0</th>\n",
       "      <td>1</td>\n",
       "      <td>0</td>\n",
       "      <td>0</td>\n",
       "      <td>0</td>\n",
       "      <td>0</td>\n",
       "      <td>0</td>\n",
       "      <td>0</td>\n",
       "      <td>1</td>\n",
       "      <td>0</td>\n",
       "      <td>0</td>\n",
       "      <td>...</td>\n",
       "      <td>0</td>\n",
       "      <td>0</td>\n",
       "      <td>0</td>\n",
       "      <td>0</td>\n",
       "      <td>1</td>\n",
       "      <td>0</td>\n",
       "      <td>0</td>\n",
       "      <td>0</td>\n",
       "      <td>1</td>\n",
       "      <td>1</td>\n",
       "    </tr>\n",
       "    <tr>\n",
       "      <th>1</th>\n",
       "      <td>0</td>\n",
       "      <td>0</td>\n",
       "      <td>0</td>\n",
       "      <td>0</td>\n",
       "      <td>0</td>\n",
       "      <td>0</td>\n",
       "      <td>0</td>\n",
       "      <td>0</td>\n",
       "      <td>0</td>\n",
       "      <td>0</td>\n",
       "      <td>...</td>\n",
       "      <td>0</td>\n",
       "      <td>0</td>\n",
       "      <td>0</td>\n",
       "      <td>1</td>\n",
       "      <td>0</td>\n",
       "      <td>0</td>\n",
       "      <td>1</td>\n",
       "      <td>0</td>\n",
       "      <td>0</td>\n",
       "      <td>0</td>\n",
       "    </tr>\n",
       "    <tr>\n",
       "      <th>2</th>\n",
       "      <td>0</td>\n",
       "      <td>0</td>\n",
       "      <td>0</td>\n",
       "      <td>0</td>\n",
       "      <td>0</td>\n",
       "      <td>0</td>\n",
       "      <td>0</td>\n",
       "      <td>0</td>\n",
       "      <td>0</td>\n",
       "      <td>0</td>\n",
       "      <td>...</td>\n",
       "      <td>0</td>\n",
       "      <td>0</td>\n",
       "      <td>0</td>\n",
       "      <td>0</td>\n",
       "      <td>1</td>\n",
       "      <td>0</td>\n",
       "      <td>0</td>\n",
       "      <td>0</td>\n",
       "      <td>0</td>\n",
       "      <td>0</td>\n",
       "    </tr>\n",
       "    <tr>\n",
       "      <th>3</th>\n",
       "      <td>0</td>\n",
       "      <td>0</td>\n",
       "      <td>0</td>\n",
       "      <td>0</td>\n",
       "      <td>0</td>\n",
       "      <td>0</td>\n",
       "      <td>0</td>\n",
       "      <td>0</td>\n",
       "      <td>1</td>\n",
       "      <td>0</td>\n",
       "      <td>...</td>\n",
       "      <td>0</td>\n",
       "      <td>0</td>\n",
       "      <td>0</td>\n",
       "      <td>0</td>\n",
       "      <td>0</td>\n",
       "      <td>0</td>\n",
       "      <td>1</td>\n",
       "      <td>0</td>\n",
       "      <td>0</td>\n",
       "      <td>0</td>\n",
       "    </tr>\n",
       "    <tr>\n",
       "      <th>4</th>\n",
       "      <td>0</td>\n",
       "      <td>0</td>\n",
       "      <td>0</td>\n",
       "      <td>0</td>\n",
       "      <td>0</td>\n",
       "      <td>0</td>\n",
       "      <td>0</td>\n",
       "      <td>0</td>\n",
       "      <td>0</td>\n",
       "      <td>0</td>\n",
       "      <td>...</td>\n",
       "      <td>0</td>\n",
       "      <td>0</td>\n",
       "      <td>0</td>\n",
       "      <td>0</td>\n",
       "      <td>0</td>\n",
       "      <td>0</td>\n",
       "      <td>1</td>\n",
       "      <td>0</td>\n",
       "      <td>1</td>\n",
       "      <td>0</td>\n",
       "    </tr>\n",
       "    <tr>\n",
       "      <th>...</th>\n",
       "      <td>...</td>\n",
       "      <td>...</td>\n",
       "      <td>...</td>\n",
       "      <td>...</td>\n",
       "      <td>...</td>\n",
       "      <td>...</td>\n",
       "      <td>...</td>\n",
       "      <td>...</td>\n",
       "      <td>...</td>\n",
       "      <td>...</td>\n",
       "      <td>...</td>\n",
       "      <td>...</td>\n",
       "      <td>...</td>\n",
       "      <td>...</td>\n",
       "      <td>...</td>\n",
       "      <td>...</td>\n",
       "      <td>...</td>\n",
       "      <td>...</td>\n",
       "      <td>...</td>\n",
       "      <td>...</td>\n",
       "      <td>...</td>\n",
       "    </tr>\n",
       "    <tr>\n",
       "      <th>185</th>\n",
       "      <td>0</td>\n",
       "      <td>0</td>\n",
       "      <td>0</td>\n",
       "      <td>0</td>\n",
       "      <td>0</td>\n",
       "      <td>0</td>\n",
       "      <td>0</td>\n",
       "      <td>0</td>\n",
       "      <td>0</td>\n",
       "      <td>0</td>\n",
       "      <td>...</td>\n",
       "      <td>0</td>\n",
       "      <td>0</td>\n",
       "      <td>0</td>\n",
       "      <td>0</td>\n",
       "      <td>0</td>\n",
       "      <td>0</td>\n",
       "      <td>0</td>\n",
       "      <td>0</td>\n",
       "      <td>0</td>\n",
       "      <td>0</td>\n",
       "    </tr>\n",
       "    <tr>\n",
       "      <th>186</th>\n",
       "      <td>0</td>\n",
       "      <td>0</td>\n",
       "      <td>0</td>\n",
       "      <td>0</td>\n",
       "      <td>0</td>\n",
       "      <td>0</td>\n",
       "      <td>0</td>\n",
       "      <td>0</td>\n",
       "      <td>0</td>\n",
       "      <td>0</td>\n",
       "      <td>...</td>\n",
       "      <td>0</td>\n",
       "      <td>0</td>\n",
       "      <td>0</td>\n",
       "      <td>0</td>\n",
       "      <td>0</td>\n",
       "      <td>0</td>\n",
       "      <td>0</td>\n",
       "      <td>0</td>\n",
       "      <td>1</td>\n",
       "      <td>0</td>\n",
       "    </tr>\n",
       "    <tr>\n",
       "      <th>187</th>\n",
       "      <td>0</td>\n",
       "      <td>0</td>\n",
       "      <td>0</td>\n",
       "      <td>0</td>\n",
       "      <td>0</td>\n",
       "      <td>0</td>\n",
       "      <td>0</td>\n",
       "      <td>0</td>\n",
       "      <td>1</td>\n",
       "      <td>0</td>\n",
       "      <td>...</td>\n",
       "      <td>0</td>\n",
       "      <td>0</td>\n",
       "      <td>0</td>\n",
       "      <td>0</td>\n",
       "      <td>0</td>\n",
       "      <td>0</td>\n",
       "      <td>1</td>\n",
       "      <td>0</td>\n",
       "      <td>0</td>\n",
       "      <td>0</td>\n",
       "    </tr>\n",
       "    <tr>\n",
       "      <th>188</th>\n",
       "      <td>0</td>\n",
       "      <td>0</td>\n",
       "      <td>0</td>\n",
       "      <td>0</td>\n",
       "      <td>0</td>\n",
       "      <td>0</td>\n",
       "      <td>0</td>\n",
       "      <td>0</td>\n",
       "      <td>1</td>\n",
       "      <td>0</td>\n",
       "      <td>...</td>\n",
       "      <td>0</td>\n",
       "      <td>0</td>\n",
       "      <td>0</td>\n",
       "      <td>0</td>\n",
       "      <td>0</td>\n",
       "      <td>0</td>\n",
       "      <td>1</td>\n",
       "      <td>0</td>\n",
       "      <td>0</td>\n",
       "      <td>0</td>\n",
       "    </tr>\n",
       "    <tr>\n",
       "      <th>189</th>\n",
       "      <td>0</td>\n",
       "      <td>0</td>\n",
       "      <td>0</td>\n",
       "      <td>0</td>\n",
       "      <td>0</td>\n",
       "      <td>0</td>\n",
       "      <td>0</td>\n",
       "      <td>0</td>\n",
       "      <td>1</td>\n",
       "      <td>0</td>\n",
       "      <td>...</td>\n",
       "      <td>0</td>\n",
       "      <td>0</td>\n",
       "      <td>0</td>\n",
       "      <td>0</td>\n",
       "      <td>0</td>\n",
       "      <td>0</td>\n",
       "      <td>1</td>\n",
       "      <td>0</td>\n",
       "      <td>0</td>\n",
       "      <td>0</td>\n",
       "    </tr>\n",
       "  </tbody>\n",
       "</table>\n",
       "<p>190 rows × 51 columns</p>\n",
       "</div>"
      ],
      "text/plain": [
       "     AKT1  ALK_Col1  ALK_Col2  APC  ATM_Col1  ATM_Col2  BRAF  CCND2  CDKN2A  \\\n",
       "0       1         0         0    0         0         0     0      1       0   \n",
       "1       0         0         0    0         0         0     0      0       0   \n",
       "2       0         0         0    0         0         0     0      0       0   \n",
       "3       0         0         0    0         0         0     0      0       1   \n",
       "4       0         0         0    0         0         0     0      0       0   \n",
       "..    ...       ...       ...  ...       ...       ...   ...    ...     ...   \n",
       "185     0         0         0    0         0         0     0      0       0   \n",
       "186     0         0         0    0         0         0     0      0       0   \n",
       "187     0         0         0    0         0         0     0      0       1   \n",
       "188     0         0         0    0         0         0     0      0       1   \n",
       "189     0         0         0    0         0         0     0      0       1   \n",
       "\n",
       "     CTNNB1  ...  RB1  SMARCA4  SMARCB1  SMO  STK11  TERT  TP53_Col1  \\\n",
       "0         0  ...    0        0        0    0      1     0          0   \n",
       "1         0  ...    0        0        0    1      0     0          1   \n",
       "2         0  ...    0        0        0    0      1     0          0   \n",
       "3         0  ...    0        0        0    0      0     0          1   \n",
       "4         0  ...    0        0        0    0      0     0          1   \n",
       "..      ...  ...  ...      ...      ...  ...    ...   ...        ...   \n",
       "185       0  ...    0        0        0    0      0     0          0   \n",
       "186       0  ...    0        0        0    0      0     0          0   \n",
       "187       0  ...    0        0        0    0      0     0          1   \n",
       "188       0  ...    0        0        0    0      0     0          1   \n",
       "189       0  ...    0        0        0    0      0     0          1   \n",
       "\n",
       "     TP53_Col2  TSC2  Outcome  \n",
       "0            0     1        1  \n",
       "1            0     0        0  \n",
       "2            0     0        0  \n",
       "3            0     0        0  \n",
       "4            0     1        0  \n",
       "..         ...   ...      ...  \n",
       "185          0     0        0  \n",
       "186          0     1        0  \n",
       "187          0     0        0  \n",
       "188          0     0        0  \n",
       "189          0     0        0  \n",
       "\n",
       "[190 rows x 51 columns]"
      ]
     },
     "execution_count": 47,
     "metadata": {},
     "output_type": "execute_result"
    }
   ],
   "source": [
    "df_com"
   ]
  },
  {
   "cell_type": "code",
   "execution_count": 48,
   "id": "d2a4d10e",
   "metadata": {},
   "outputs": [
    {
     "name": "stderr",
     "output_type": "stream",
     "text": [
      "C:\\Users\\jbae42\\AppData\\Local\\Temp/ipykernel_22624/1962231704.py:6: UserWarning: Boolean Series key will be reindexed to match DataFrame index.\n",
      "  zero = len(df[df[col]==val][df['Outcome']==0])\n",
      "C:\\Users\\jbae42\\AppData\\Local\\Temp/ipykernel_22624/1962231704.py:7: UserWarning: Boolean Series key will be reindexed to match DataFrame index.\n",
      "  one = len(df[df[col]==val][df['Outcome']==1])\n"
     ]
    },
    {
     "name": "stdout",
     "output_type": "stream",
     "text": [
      "AKT1 : Independent (failed to reject H0)\n",
      "ALK_Col1 : Independent (failed to reject H0)\n",
      "ALK_Col2 : Independent (failed to reject H0)\n",
      "APC : Dependent (reject H0)\n",
      "ATM_Col1 : Dependent (reject H0)\n",
      "ATM_Col2 : Independent (failed to reject H0)\n",
      "BRAF : Independent (failed to reject H0)\n",
      "CCND2 : Independent (failed to reject H0)\n",
      "CDKN2A : Dependent (reject H0)\n",
      "CTNNB1 : Dependent (reject H0)\n",
      "DNMT3A : Dependent (reject H0)\n",
      "EGFR : Dependent (reject H0)\n",
      "ERBB3 : Independent (failed to reject H0)\n",
      "ERBB4 : Independent (failed to reject H0)\n",
      "ESR1 : Independent (failed to reject H0)\n",
      "FBXW7 : Independent (failed to reject H0)\n",
      "FGFR1 : Independent (failed to reject H0)\n",
      "FGFR3 : Independent (failed to reject H0)\n",
      "FLT4 : Independent (failed to reject H0)\n",
      "FOXL2 : Independent (failed to reject H0)\n",
      "GNAS : Independent (failed to reject H0)\n",
      "HNF1A : Independent (failed to reject H0)\n",
      "KRAS_Col1 : Independent (failed to reject H0)\n",
      "KRAS_Col2 : Independent (failed to reject H0)\n",
      "MAP2K2 : Independent (failed to reject H0)\n",
      "MET : Independent (failed to reject H0)\n",
      "MLH_Col2 : Independent (failed to reject H0)\n",
      "MSH2 : Dependent (reject H0)\n",
      "MSH6 : Independent (failed to reject H0)\n",
      "NF_Col1 : Independent (failed to reject H0)\n",
      "NF_Col2 : Independent (failed to reject H0)\n",
      "NF_Col3 : Independent (failed to reject H0)\n",
      "NF_Col5 : Independent (failed to reject H0)\n",
      "NOTCH1 : Dependent (reject H0)\n",
      "NTRK1 : Independent (failed to reject H0)\n",
      "PDGFRB : Dependent (reject H0)\n",
      "PIK3CA : Independent (failed to reject H0)\n",
      "PIK3CB : Independent (failed to reject H0)\n",
      "POLD_Col2 : Dependent (reject H0)\n",
      "PTCH1 : Dependent (reject H0)\n",
      "PTEN : Independent (failed to reject H0)\n",
      "RB1 : Independent (failed to reject H0)\n",
      "SMARCA4 : Independent (failed to reject H0)\n",
      "SMARCB1 : Independent (failed to reject H0)\n",
      "SMO : Independent (failed to reject H0)\n",
      "STK11 : Independent (failed to reject H0)\n",
      "TERT : Independent (failed to reject H0)\n",
      "TP53_Col1 : Independent (failed to reject H0)\n",
      "TP53_Col2 : Independent (failed to reject H0)\n",
      "TSC2 : Independent (failed to reject H0)\n"
     ]
    }
   ],
   "source": [
    "import scipy.stats\n",
    "\n",
    "def make_table(df, col):\n",
    "    res = []\n",
    "    for val in df[col].unique():\n",
    "        zero = len(df[df[col]==val][df['Outcome']==0])\n",
    "        one = len(df[df[col]==val][df['Outcome']==1])\n",
    "        res.append([zero,one])\n",
    "        \n",
    "    return res\n",
    "\n",
    "prob = 0.95\n",
    "alpha = 1 - prob\n",
    "\n",
    "cols_kept = []\n",
    "\n",
    "for col in genes:\n",
    "    table = make_table(df_com, col)\n",
    "    stat_score, p, dof, expected = scipy.stats.chi2_contingency(table)\n",
    "    if p <= alpha:\n",
    "        print(col, \": Dependent (reject H0)\")\n",
    "        cols_kept.append(col)\n",
    "    else:\n",
    "        print(col, \": Independent (failed to reject H0)\")"
   ]
  },
  {
   "cell_type": "markdown",
   "id": "5ba95b96",
   "metadata": {},
   "source": [
    "## As a result, we have genes that are significant to 'Outcome'"
   ]
  },
  {
   "cell_type": "code",
   "execution_count": 49,
   "id": "f74dc4a5",
   "metadata": {},
   "outputs": [
    {
     "data": {
      "text/plain": [
       "['APC',\n",
       " 'ATM_Col1',\n",
       " 'CDKN2A',\n",
       " 'CTNNB1',\n",
       " 'DNMT3A',\n",
       " 'EGFR',\n",
       " 'MSH2',\n",
       " 'NOTCH1',\n",
       " 'PDGFRB',\n",
       " 'POLD_Col2',\n",
       " 'PTCH1']"
      ]
     },
     "execution_count": 49,
     "metadata": {},
     "output_type": "execute_result"
    }
   ],
   "source": [
    "cols_kept"
   ]
  },
  {
   "cell_type": "markdown",
   "id": "e619dd3b",
   "metadata": {},
   "source": [
    "## Add these genes to the dataset"
   ]
  },
  {
   "cell_type": "code",
   "execution_count": 50,
   "id": "0fd6481a",
   "metadata": {},
   "outputs": [],
   "source": [
    "df[cols_kept] = df_com[cols_kept]"
   ]
  },
  {
   "cell_type": "markdown",
   "id": "1e42c31d",
   "metadata": {},
   "source": [
    "# Quick Look at the Dataset"
   ]
  },
  {
   "cell_type": "code",
   "execution_count": 51,
   "id": "00b45c0c",
   "metadata": {},
   "outputs": [
    {
     "data": {
      "text/plain": [
       "(190, 27)"
      ]
     },
     "execution_count": 51,
     "metadata": {},
     "output_type": "execute_result"
    }
   ],
   "source": [
    "df.shape"
   ]
  },
  {
   "cell_type": "code",
   "execution_count": 53,
   "id": "e80d1b1e",
   "metadata": {
    "scrolled": false
   },
   "outputs": [
    {
     "data": {
      "image/png": "[encoded data removed]",
      "text/plain": [
       "<Figure size 1800x1440 with 27 Axes>"
      ]
     },
     "metadata": {},
     "output_type": "display_data"
    }
   ],
   "source": [
    "plt.style.use(\"ggplot\")\n",
    "\n",
    "# Looking at the distribution using histograms\n",
    "plt.figure(figsize=(25,20))\n",
    "plt.suptitle(\"Data Histogram\", fontsize=40)\n",
    "\n",
    "cols = df.columns\n",
    "for i in range(len(cols)):\n",
    "    plt.subplot(8,4,i+1)\n",
    "    plt.title(cols[i], fontsize=20)\n",
    "    if len(df[cols[i]].unique()) > 20:\n",
    "        plt.hist(df[cols[i]], bins=20, color='b', alpha=0.7)\n",
    "    else:\n",
    "        temp = df[cols[i]].value_counts()\n",
    "        plt.bar(temp.keys(), temp.values, width=0.5, alpha=0.7)\n",
    "        plt.xticks(temp.keys())\n",
    "plt.tight_layout(rect=[0, 0.03, 1, 0.95])\n",
    "plt.show()\n",
    "\n"
   ]
  },
  {
   "cell_type": "markdown",
   "id": "ffcde9a3",
   "metadata": {},
   "source": [
    "### It should be noted that 'Survival.Months', 'T', 'Stage', and 'Primary.Site' are skewed to right. However, in 'T', UNK (unknown) has the most number of instances."
   ]
  },
  {
   "cell_type": "code",
   "execution_count": 54,
   "id": "a2479635",
   "metadata": {},
   "outputs": [
    {
     "data": {
      "text/plain": [
       "Index(['ID', 'Outcome', 'Survival.Months', 'Age', 'Grade', 'Num.Primaries',\n",
       "       'T', 'N', 'M', 'Radiation', 'Stage', 'Primary.Site', 'Histology',\n",
       "       'Tumor.Size', 'Num.Mutated.Genes', 'Num.Mutations', 'APC', 'ATM_Col1',\n",
       "       'CDKN2A', 'CTNNB1', 'DNMT3A', 'EGFR', 'MSH2', 'NOTCH1', 'PDGFRB',\n",
       "       'POLD_Col2', 'PTCH1'],\n",
       "      dtype='object')"
      ]
     },
     "execution_count": 54,
     "metadata": {},
     "output_type": "execute_result"
    }
   ],
   "source": [
    "df.columns"
   ]
  },
  {
   "cell_type": "code",
   "execution_count": 55,
   "id": "6f7c20e8",
   "metadata": {},
   "outputs": [
    {
     "data": {
      "text/html": [
       "<div>\n",
       "<style scoped>\n",
       "    .dataframe tbody tr th:only-of-type {\n",
       "        vertical-align: middle;\n",
       "    }\n",
       "\n",
       "    .dataframe tbody tr th {\n",
       "        vertical-align: top;\n",
       "    }\n",
       "\n",
       "    .dataframe thead th {\n",
       "        text-align: right;\n",
       "    }\n",
       "</style>\n",
       "<table border=\"1\" class=\"dataframe\">\n",
       "  <thead>\n",
       "    <tr style=\"text-align: right;\">\n",
       "      <th></th>\n",
       "      <th>ID</th>\n",
       "      <th>Outcome</th>\n",
       "      <th>Survival.Months</th>\n",
       "      <th>Age</th>\n",
       "      <th>Grade</th>\n",
       "      <th>Num.Primaries</th>\n",
       "      <th>T</th>\n",
       "      <th>N</th>\n",
       "      <th>M</th>\n",
       "      <th>Radiation</th>\n",
       "      <th>...</th>\n",
       "      <th>ATM_Col1</th>\n",
       "      <th>CDKN2A</th>\n",
       "      <th>CTNNB1</th>\n",
       "      <th>DNMT3A</th>\n",
       "      <th>EGFR</th>\n",
       "      <th>MSH2</th>\n",
       "      <th>NOTCH1</th>\n",
       "      <th>PDGFRB</th>\n",
       "      <th>POLD_Col2</th>\n",
       "      <th>PTCH1</th>\n",
       "    </tr>\n",
       "  </thead>\n",
       "  <tbody>\n",
       "    <tr>\n",
       "      <th>0</th>\n",
       "      <td>1</td>\n",
       "      <td>Alive</td>\n",
       "      <td>9.0</td>\n",
       "      <td>67</td>\n",
       "      <td>4</td>\n",
       "      <td>0</td>\n",
       "      <td>UNK</td>\n",
       "      <td>2.0</td>\n",
       "      <td>NaN</td>\n",
       "      <td>0</td>\n",
       "      <td>...</td>\n",
       "      <td>0</td>\n",
       "      <td>0</td>\n",
       "      <td>0</td>\n",
       "      <td>0</td>\n",
       "      <td>1</td>\n",
       "      <td>0</td>\n",
       "      <td>0</td>\n",
       "      <td>1</td>\n",
       "      <td>0</td>\n",
       "      <td>0</td>\n",
       "    </tr>\n",
       "    <tr>\n",
       "      <th>1</th>\n",
       "      <td>2</td>\n",
       "      <td>Dead</td>\n",
       "      <td>19.0</td>\n",
       "      <td>73</td>\n",
       "      <td>2</td>\n",
       "      <td>0</td>\n",
       "      <td>UNK</td>\n",
       "      <td>2.0</td>\n",
       "      <td>0.0</td>\n",
       "      <td>5</td>\n",
       "      <td>...</td>\n",
       "      <td>0</td>\n",
       "      <td>0</td>\n",
       "      <td>0</td>\n",
       "      <td>0</td>\n",
       "      <td>0</td>\n",
       "      <td>0</td>\n",
       "      <td>0</td>\n",
       "      <td>0</td>\n",
       "      <td>0</td>\n",
       "      <td>0</td>\n",
       "    </tr>\n",
       "    <tr>\n",
       "      <th>2</th>\n",
       "      <td>3</td>\n",
       "      <td>Dead</td>\n",
       "      <td>13.0</td>\n",
       "      <td>72</td>\n",
       "      <td>3</td>\n",
       "      <td>0</td>\n",
       "      <td>2</td>\n",
       "      <td>2.0</td>\n",
       "      <td>0.0</td>\n",
       "      <td>0</td>\n",
       "      <td>...</td>\n",
       "      <td>0</td>\n",
       "      <td>0</td>\n",
       "      <td>0</td>\n",
       "      <td>0</td>\n",
       "      <td>0</td>\n",
       "      <td>0</td>\n",
       "      <td>0</td>\n",
       "      <td>0</td>\n",
       "      <td>0</td>\n",
       "      <td>0</td>\n",
       "    </tr>\n",
       "    <tr>\n",
       "      <th>3</th>\n",
       "      <td>4</td>\n",
       "      <td>Dead</td>\n",
       "      <td>15.0</td>\n",
       "      <td>69</td>\n",
       "      <td>9</td>\n",
       "      <td>1</td>\n",
       "      <td>1a</td>\n",
       "      <td>0.0</td>\n",
       "      <td>1.0</td>\n",
       "      <td>0</td>\n",
       "      <td>...</td>\n",
       "      <td>0</td>\n",
       "      <td>1</td>\n",
       "      <td>0</td>\n",
       "      <td>0</td>\n",
       "      <td>0</td>\n",
       "      <td>0</td>\n",
       "      <td>0</td>\n",
       "      <td>0</td>\n",
       "      <td>0</td>\n",
       "      <td>0</td>\n",
       "    </tr>\n",
       "    <tr>\n",
       "      <th>4</th>\n",
       "      <td>5</td>\n",
       "      <td>Dead</td>\n",
       "      <td>10.0</td>\n",
       "      <td>76</td>\n",
       "      <td>9</td>\n",
       "      <td>0</td>\n",
       "      <td>UNK</td>\n",
       "      <td>NaN</td>\n",
       "      <td>NaN</td>\n",
       "      <td>0</td>\n",
       "      <td>...</td>\n",
       "      <td>0</td>\n",
       "      <td>0</td>\n",
       "      <td>0</td>\n",
       "      <td>0</td>\n",
       "      <td>0</td>\n",
       "      <td>0</td>\n",
       "      <td>0</td>\n",
       "      <td>0</td>\n",
       "      <td>0</td>\n",
       "      <td>0</td>\n",
       "    </tr>\n",
       "    <tr>\n",
       "      <th>5</th>\n",
       "      <td>6</td>\n",
       "      <td>Dead</td>\n",
       "      <td>11.0</td>\n",
       "      <td>62</td>\n",
       "      <td>9</td>\n",
       "      <td>0</td>\n",
       "      <td>3</td>\n",
       "      <td>2.0</td>\n",
       "      <td>NaN</td>\n",
       "      <td>0</td>\n",
       "      <td>...</td>\n",
       "      <td>0</td>\n",
       "      <td>0</td>\n",
       "      <td>0</td>\n",
       "      <td>0</td>\n",
       "      <td>0</td>\n",
       "      <td>1</td>\n",
       "      <td>0</td>\n",
       "      <td>0</td>\n",
       "      <td>0</td>\n",
       "      <td>0</td>\n",
       "    </tr>\n",
       "    <tr>\n",
       "      <th>6</th>\n",
       "      <td>7</td>\n",
       "      <td>Dead</td>\n",
       "      <td>13.0</td>\n",
       "      <td>72</td>\n",
       "      <td>2</td>\n",
       "      <td>0</td>\n",
       "      <td>4</td>\n",
       "      <td>NaN</td>\n",
       "      <td>1.0</td>\n",
       "      <td>5</td>\n",
       "      <td>...</td>\n",
       "      <td>0</td>\n",
       "      <td>0</td>\n",
       "      <td>0</td>\n",
       "      <td>0</td>\n",
       "      <td>0</td>\n",
       "      <td>0</td>\n",
       "      <td>0</td>\n",
       "      <td>0</td>\n",
       "      <td>0</td>\n",
       "      <td>0</td>\n",
       "    </tr>\n",
       "    <tr>\n",
       "      <th>7</th>\n",
       "      <td>8</td>\n",
       "      <td>Dead</td>\n",
       "      <td>13.0</td>\n",
       "      <td>72</td>\n",
       "      <td>2</td>\n",
       "      <td>0</td>\n",
       "      <td>3</td>\n",
       "      <td>NaN</td>\n",
       "      <td>0.0</td>\n",
       "      <td>0</td>\n",
       "      <td>...</td>\n",
       "      <td>0</td>\n",
       "      <td>0</td>\n",
       "      <td>0</td>\n",
       "      <td>0</td>\n",
       "      <td>0</td>\n",
       "      <td>0</td>\n",
       "      <td>0</td>\n",
       "      <td>0</td>\n",
       "      <td>0</td>\n",
       "      <td>0</td>\n",
       "    </tr>\n",
       "    <tr>\n",
       "      <th>8</th>\n",
       "      <td>9</td>\n",
       "      <td>Dead</td>\n",
       "      <td>19.0</td>\n",
       "      <td>72</td>\n",
       "      <td>9</td>\n",
       "      <td>0</td>\n",
       "      <td>4</td>\n",
       "      <td>NaN</td>\n",
       "      <td>0.0</td>\n",
       "      <td>0</td>\n",
       "      <td>...</td>\n",
       "      <td>0</td>\n",
       "      <td>1</td>\n",
       "      <td>0</td>\n",
       "      <td>0</td>\n",
       "      <td>0</td>\n",
       "      <td>0</td>\n",
       "      <td>0</td>\n",
       "      <td>0</td>\n",
       "      <td>0</td>\n",
       "      <td>0</td>\n",
       "    </tr>\n",
       "    <tr>\n",
       "      <th>9</th>\n",
       "      <td>10</td>\n",
       "      <td>Alive</td>\n",
       "      <td>9.0</td>\n",
       "      <td>83</td>\n",
       "      <td>3</td>\n",
       "      <td>0</td>\n",
       "      <td>UNK</td>\n",
       "      <td>NaN</td>\n",
       "      <td>NaN</td>\n",
       "      <td>5</td>\n",
       "      <td>...</td>\n",
       "      <td>0</td>\n",
       "      <td>0</td>\n",
       "      <td>0</td>\n",
       "      <td>0</td>\n",
       "      <td>0</td>\n",
       "      <td>0</td>\n",
       "      <td>0</td>\n",
       "      <td>1</td>\n",
       "      <td>0</td>\n",
       "      <td>0</td>\n",
       "    </tr>\n",
       "  </tbody>\n",
       "</table>\n",
       "<p>10 rows × 27 columns</p>\n",
       "</div>"
      ],
      "text/plain": [
       "   ID Outcome  Survival.Months  Age  Grade  Num.Primaries    T    N    M  \\\n",
       "0   1   Alive              9.0   67      4              0  UNK  2.0  NaN   \n",
       "1   2    Dead             19.0   73      2              0  UNK  2.0  0.0   \n",
       "2   3    Dead             13.0   72      3              0    2  2.0  0.0   \n",
       "3   4    Dead             15.0   69      9              1   1a  0.0  1.0   \n",
       "4   5    Dead             10.0   76      9              0  UNK  NaN  NaN   \n",
       "5   6    Dead             11.0   62      9              0    3  2.0  NaN   \n",
       "6   7    Dead             13.0   72      2              0    4  NaN  1.0   \n",
       "7   8    Dead             13.0   72      2              0    3  NaN  0.0   \n",
       "8   9    Dead             19.0   72      9              0    4  NaN  0.0   \n",
       "9  10   Alive              9.0   83      3              0  UNK  NaN  NaN   \n",
       "\n",
       "   Radiation  ... ATM_Col1 CDKN2A CTNNB1  DNMT3A  EGFR  MSH2  NOTCH1  PDGFRB  \\\n",
       "0          0  ...        0      0      0       0     1     0       0       1   \n",
       "1          5  ...        0      0      0       0     0     0       0       0   \n",
       "2          0  ...        0      0      0       0     0     0       0       0   \n",
       "3          0  ...        0      1      0       0     0     0       0       0   \n",
       "4          0  ...        0      0      0       0     0     0       0       0   \n",
       "5          0  ...        0      0      0       0     0     1       0       0   \n",
       "6          5  ...        0      0      0       0     0     0       0       0   \n",
       "7          0  ...        0      0      0       0     0     0       0       0   \n",
       "8          0  ...        0      1      0       0     0     0       0       0   \n",
       "9          5  ...        0      0      0       0     0     0       0       1   \n",
       "\n",
       "   POLD_Col2  PTCH1  \n",
       "0          0      0  \n",
       "1          0      0  \n",
       "2          0      0  \n",
       "3          0      0  \n",
       "4          0      0  \n",
       "5          0      0  \n",
       "6          0      0  \n",
       "7          0      0  \n",
       "8          0      0  \n",
       "9          0      0  \n",
       "\n",
       "[10 rows x 27 columns]"
      ]
     },
     "execution_count": 55,
     "metadata": {},
     "output_type": "execute_result"
    }
   ],
   "source": [
    "df.head(10)"
   ]
  },
  {
   "cell_type": "code",
   "execution_count": 56,
   "id": "0c55993e",
   "metadata": {},
   "outputs": [],
   "source": [
    "numeric_features = ['Age','Survival.Months','Tumor.Size','Num.Mutated.Genes','Num.Mutations']\n",
    "ordinal_features = ['Grade','T','N','M','Num.Primaries']\n",
    "nominal_features = ['Radiation','Histology','APC', 'ATM_Col1','CDKN2A', 'CTNNB1', 'DNMT3A', 'EGFR', 'MSH2', \n",
    "                    'NOTCH1', 'PDGFRB','POLD_Col2', 'PTCH1']"
   ]
  },
  {
   "cell_type": "code",
   "execution_count": 57,
   "id": "be7b2073",
   "metadata": {},
   "outputs": [],
   "source": [
    "outcome_dict = dict()\n",
    "outcome_dict['Alive'] = 1\n",
    "outcome_dict['Dead'] = 0\n",
    "df['Outcome'] = df['Outcome'].map(outcome_dict)"
   ]
  },
  {
   "cell_type": "code",
   "execution_count": 62,
   "id": "7c565613",
   "metadata": {
    "scrolled": false
   },
   "outputs": [
    {
     "data": {
      "image/png": "[encoded data removed]",
      "text/plain": [
       "<Figure size 1152x1584 with 18 Axes>"
      ]
     },
     "metadata": {},
     "output_type": "display_data"
    }
   ],
   "source": [
    "fig, ax = plt.subplots(6, 3, figsize = (16, 22))\n",
    "\n",
    "plt.suptitle(\"feature / target\", fontsize=40)\n",
    "\n",
    "feature = ordinal_features + nominal_features\n",
    "\n",
    "xvalue = 0\n",
    "yvalue = 0\n",
    "\n",
    "for xstr in feature:\n",
    "    sns.barplot(x = xstr, y = 'Outcome', data = df, ax = ax[yvalue][xvalue])\n",
    "        \n",
    "    if xvalue == 2:\n",
    "        xvalue = 0\n",
    "        yvalue += 1\n",
    "    else:\n",
    "        xvalue += 1"
   ]
  },
  {
   "cell_type": "markdown",
   "id": "0d9c8259",
   "metadata": {},
   "source": [
    "## Looking at the skewness of the numerical features, log transformation is not necessary since all of them are below 1"
   ]
  },
  {
   "cell_type": "code",
   "execution_count": 88,
   "id": "4a68235a",
   "metadata": {},
   "outputs": [
    {
     "name": "stdout",
     "output_type": "stream",
     "text": [
      "Age Skew : -0.06628283680051696\n",
      "Survival.Months Skew : 0.8849598309941257\n",
      "Tumor.Size Skew : 0.6833176778752491\n",
      "Num.Mutated.Genes Skew : 0.8101451888326517\n",
      "Num.Mutations Skew : 0.5818293421939547\n"
     ]
    },
    {
     "data": {
      "image/png": "[encoded data removed]",
      "text/plain": [
       "<Figure size 1152x288 with 4 Axes>"
      ]
     },
     "metadata": {},
     "output_type": "display_data"
    }
   ],
   "source": [
    "for xstr in numeric_features:\n",
    "    print(xstr, \"Skew :\", df[xstr].skew())\n",
    "    \n",
    "fig, ax = plt.subplots(1, 4, figsize = (16, 4))\n",
    "\n",
    "for xint in range(4):\n",
    "    sns.kdeplot(x = numeric_features[xint], data = df, ax = ax[xint])"
   ]
  },
  {
   "cell_type": "markdown",
   "id": "013a73d8",
   "metadata": {},
   "source": [
    "# Taking care of the missing values"
   ]
  },
  {
   "cell_type": "markdown",
   "id": "b42ed87f",
   "metadata": {},
   "source": [
    "### since 'UNK' in column T stands for Unknown, change this to NAs"
   ]
  },
  {
   "cell_type": "code",
   "execution_count": 70,
   "id": "787d5c4b",
   "metadata": {},
   "outputs": [],
   "source": [
    "df.loc[df['T']=='UNK','T'] = np.nan"
   ]
  },
  {
   "cell_type": "code",
   "execution_count": 86,
   "id": "ea4c6ff4",
   "metadata": {
    "scrolled": false
   },
   "outputs": [
    {
     "name": "stdout",
     "output_type": "stream",
     "text": [
      "ID                    0\n",
      "Outcome               0\n",
      "Survival.Months       0\n",
      "Age                   0\n",
      "Grade                 0\n",
      "Num.Primaries         0\n",
      "T                    62\n",
      "N                    65\n",
      "M                    96\n",
      "Radiation             0\n",
      "Stage                 0\n",
      "Primary.Site          0\n",
      "Histology             0\n",
      "Tumor.Size           92\n",
      "Num.Mutated.Genes     0\n",
      "Num.Mutations         0\n",
      "APC                   0\n",
      "ATM_Col1              0\n",
      "CDKN2A                0\n",
      "CTNNB1                0\n",
      "DNMT3A                0\n",
      "EGFR                  0\n",
      "MSH2                  0\n",
      "NOTCH1                0\n",
      "PDGFRB                0\n",
      "POLD_Col2             0\n",
      "PTCH1                 0\n",
      "dtype: int64\n"
     ]
    }
   ],
   "source": [
    "print(df.isna().sum())"
   ]
  },
  {
   "cell_type": "markdown",
   "id": "ce5e907e",
   "metadata": {},
   "source": [
    "### Using Datawig, we can impute the missing values based on other features.\n",
    "#### first, let's encode the features with string values"
   ]
  },
  {
   "cell_type": "code",
   "execution_count": null,
   "id": "40186133",
   "metadata": {},
   "outputs": [],
   "source": [
    "import datawig"
   ]
  },
  {
   "cell_type": "code",
   "execution_count": 79,
   "id": "455dcd05",
   "metadata": {},
   "outputs": [],
   "source": [
    "convert_cols = ['Primary.Site', 'Histology', 'Stage']\n",
    "for col in convert_cols:\n",
    "    temp_dict = dict()\n",
    "    for num, val in enumerate(df[col].unique()):\n",
    "        temp_dict[val] = num\n",
    "    df[col] = df[col].map(temp_dict)"
   ]
  },
  {
   "cell_type": "code",
   "execution_count": 80,
   "id": "71d6c8e2",
   "metadata": {},
   "outputs": [
    {
     "data": {
      "text/plain": [
       "array([nan, '2', '1a', '3', '4', '2a', '1b', '2b', '1'], dtype=object)"
      ]
     },
     "execution_count": 80,
     "metadata": {},
     "output_type": "execute_result"
    }
   ],
   "source": [
    "df['T'].unique()"
   ]
  },
  {
   "cell_type": "code",
   "execution_count": 82,
   "id": "0439fcf4",
   "metadata": {},
   "outputs": [],
   "source": [
    "T_dict = dict()\n",
    "T_dict['1'] = 1\n",
    "T_dict['1a'] = 2\n",
    "T_dict['1b'] = 3\n",
    "T_dict['2'] = 4\n",
    "T_dict['2a'] = 5\n",
    "T_dict['2b'] = 6\n",
    "T_dict['3'] = 7\n",
    "T_dict['4'] = 8\n",
    "\n",
    "df['T'] = df['T'].map(T_dict)"
   ]
  },
  {
   "cell_type": "markdown",
   "id": "4af5c97f",
   "metadata": {},
   "source": [
    "#### second, select a couple features that are significant to the \"target\" feature (with missing value)"
   ]
  },
  {
   "cell_type": "code",
   "execution_count": 84,
   "id": "cfc70007",
   "metadata": {},
   "outputs": [],
   "source": [
    "corr_matrix = df.corr()"
   ]
  },
  {
   "cell_type": "code",
   "execution_count": 87,
   "id": "67864052",
   "metadata": {
    "scrolled": true
   },
   "outputs": [
    {
     "data": {
      "text/plain": [
       "T            1.000000\n",
       "Histology    0.314471\n",
       "MSH2         0.268380\n",
       "APC          0.238738\n",
       "Grade        0.217473\n",
       "Name: T, dtype: float64"
      ]
     },
     "execution_count": 87,
     "metadata": {},
     "output_type": "execute_result"
    }
   ],
   "source": [
    "corr_matrix[\"T\"].sort_values(ascending=False)[:5]"
   ]
  },
  {
   "cell_type": "code",
   "execution_count": null,
   "id": "d82f296c",
   "metadata": {},
   "outputs": [],
   "source": [
    "target_feature = \"T\"\n",
    "\n",
    "imputer = datawig.SimpleImputer(input_columns=['Histology', 'MSH2', 'APC'],\n",
    "                                output_column=target_feature)\n",
    "imputer.fit(train_df=df, num_epochs=50)\n",
    "\n",
    "null_train = df[df[target_feature].isnull()]\n",
    "null_imputed = imputer.predict(null_train)\n",
    "imputed_train = pd.DataFrame(null_imputed)\n",
    "\n",
    "n = 0\n",
    "for i in range(len(df)):\n",
    "    if np.isnan(df[target_feature].iloc[i]) == True:\n",
    "        df[target_feature].iloc[i] = int(round(imputed_train[target_feature+\"_imputed\"].iloc[n]))\n",
    "        n += 1"
   ]
  },
  {
   "cell_type": "code",
   "execution_count": 76,
   "id": "8f39b8f3",
   "metadata": {},
   "outputs": [
    {
     "data": {
      "text/plain": [
       "N                1.000000\n",
       "MSH2             0.285707\n",
       "APC              0.246189\n",
       "EGFR             0.168642\n",
       "Num.Mutations    0.126847\n",
       "Name: N, dtype: float64"
      ]
     },
     "execution_count": 76,
     "metadata": {},
     "output_type": "execute_result"
    }
   ],
   "source": [
    "corr_matrix[\"N\"].sort_values(ascending=False)[:5]"
   ]
  },
  {
   "cell_type": "code",
   "execution_count": null,
   "id": "2508d356",
   "metadata": {},
   "outputs": [],
   "source": [
    "target_feature = \"N\"\n",
    "\n",
    "imputer = datawig.SimpleImputer(input_columns=['MSH2', 'APC'],\n",
    "                                output_column=target_feature)\n",
    "imputer.fit(train_df=df, num_epochs=50)\n",
    "\n",
    "null_train = df[df[target_feature].isnull()]\n",
    "null_imputed = imputer.predict(null_train)\n",
    "imputed_train = pd.DataFrame(null_imputed)\n",
    "\n",
    "n = 0\n",
    "for i in range(len(df)):\n",
    "    if np.isnan(df[target_feature].iloc[i]) == True:\n",
    "        df[target_feature].iloc[i] = int(round(imputed_train[target_feature+\"_imputed\"].iloc[n]))\n",
    "        n += 1"
   ]
  },
  {
   "cell_type": "code",
   "execution_count": 77,
   "id": "f40c096d",
   "metadata": {
    "scrolled": true
   },
   "outputs": [
    {
     "data": {
      "text/plain": [
       "M            1.000000\n",
       "POLD_Col2    0.378415\n",
       "EGFR         0.219226\n",
       "NOTCH1       0.161519\n",
       "Age          0.161493\n",
       "Name: M, dtype: float64"
      ]
     },
     "execution_count": 77,
     "metadata": {},
     "output_type": "execute_result"
    }
   ],
   "source": [
    "corr_matrix[\"M\"].sort_values(ascending=False)[:5]"
   ]
  },
  {
   "cell_type": "code",
   "execution_count": null,
   "id": "e9dae6e2",
   "metadata": {},
   "outputs": [],
   "source": [
    "target_feature = \"M\"\n",
    "\n",
    "imputer = datawig.SimpleImputer(input_columns=['POLD_Col2', 'EGFR'],\n",
    "                                output_column=target_feature)\n",
    "imputer.fit(train_df=df, num_epochs=50)\n",
    "\n",
    "null_train = df[df[target_feature].isnull()]\n",
    "null_imputed = imputer.predict(null_train)\n",
    "imputed_train = pd.DataFrame(null_imputed)\n",
    "\n",
    "n = 0\n",
    "for i in range(len(df)):\n",
    "    if np.isnan(df[target_feature].iloc[i]) == True:\n",
    "        df[target_feature].iloc[i] = int(round(imputed_train[target_feature+\"_imputed\"].iloc[n]))\n",
    "        n += 1"
   ]
  },
  {
   "cell_type": "code",
   "execution_count": 78,
   "id": "7c33a7a3",
   "metadata": {
    "scrolled": true
   },
   "outputs": [
    {
     "data": {
      "text/plain": [
       "Tumor.Size       1.000000\n",
       "Grade            0.126967\n",
       "Radiation        0.064322\n",
       "Num.Mutations    0.049900\n",
       "PTCH1            0.045183\n",
       "Name: Tumor.Size, dtype: float64"
      ]
     },
     "execution_count": 78,
     "metadata": {},
     "output_type": "execute_result"
    }
   ],
   "source": [
    "corr_matrix[\"Tumor.Size\"].sort_values(ascending=False)[:5]"
   ]
  },
  {
   "cell_type": "code",
   "execution_count": null,
   "id": "d9f7dae8",
   "metadata": {},
   "outputs": [],
   "source": [
    "target_feature = \"M\"\n",
    "\n",
    "imputer = datawig.SimpleImputer(input_columns=['Grade', 'Radiation'],\n",
    "                                output_column=target_feature)\n",
    "imputer.fit(train_df=df, num_epochs=50)\n",
    "\n",
    "null_train = df[df[target_feature].isnull()]\n",
    "null_imputed = imputer.predict(null_train)\n",
    "imputed_train = pd.DataFrame(null_imputed)\n",
    "\n",
    "n = 0\n",
    "for i in range(len(df)):\n",
    "    if np.isnan(df[target_feature].iloc[i]) == True:\n",
    "        df[target_feature].iloc[i] = int(round(imputed_train[target_feature+\"_imputed\"].iloc[n]))\n",
    "        n += 1"
   ]
  },
  {
   "cell_type": "markdown",
   "id": "9a41bc73",
   "metadata": {},
   "source": [
    "#### As a result, all missing data were imputed"
   ]
  },
  {
   "cell_type": "code",
   "execution_count": 90,
   "id": "e9bf6f45",
   "metadata": {},
   "outputs": [
    {
     "name": "stdout",
     "output_type": "stream",
     "text": [
      "ID                   0\n",
      "Outcome              0\n",
      "Survival.Months      0\n",
      "Age                  0\n",
      "Grade                0\n",
      "Num.Primaries        0\n",
      "T                    0\n",
      "N                    0\n",
      "M                    0\n",
      "Radiation            0\n",
      "Stage                0\n",
      "Primary.Site         0\n",
      "Histology            0\n",
      "Tumor.Size           0\n",
      "Num.Mutated.Genes    0\n",
      "Num.Mutations        0\n",
      "APC                  0\n",
      "ATM_Col1             0\n",
      "CDKN2A               0\n",
      "CTNNB1               0\n",
      "DNMT3A               0\n",
      "EGFR                 0\n",
      "MSH2                 0\n",
      "NOTCH1               0\n",
      "PDGFRB               0\n",
      "POLD_Col2            0\n",
      "PTCH1                0\n",
      "dtype: int64\n"
     ]
    }
   ],
   "source": [
    "print(df.isna().sum())"
   ]
  },
  {
   "cell_type": "markdown",
   "id": "fb5c9d5c",
   "metadata": {},
   "source": [
    "#### Finalize the features after taking care of the missing values"
   ]
  },
  {
   "cell_type": "code",
   "execution_count": 93,
   "id": "5f73ee4b",
   "metadata": {},
   "outputs": [
    {
     "data": {
      "text/plain": [
       "Outcome              1.000000\n",
       "EGFR                 0.349689\n",
       "POLD_Col2            0.318357\n",
       "PDGFRB               0.318357\n",
       "CTNNB1               0.283981\n",
       "NOTCH1               0.283981\n",
       "ATM_Col1             0.283981\n",
       "PTCH1                0.283981\n",
       "Num.Primaries        0.276045\n",
       "DNMT3A               0.245276\n",
       "Survival.Months      0.200126\n",
       "Age                  0.195949\n",
       "Num.Mutations        0.134441\n",
       "Num.Mutated.Genes    0.129691\n",
       "Radiation            0.102473\n",
       "M                    0.067171\n",
       "ID                  -0.008238\n",
       "Primary.Site        -0.022454\n",
       "APC                 -0.172133\n",
       "N                   -0.180346\n",
       "MSH2                -0.188202\n",
       "CDKN2A              -0.196580\n",
       "Tumor.Size          -0.209563\n",
       "Grade               -0.264501\n",
       "T                   -0.301111\n",
       "Histology           -0.326244\n",
       "Name: Outcome, dtype: float64"
      ]
     },
     "execution_count": 93,
     "metadata": {},
     "output_type": "execute_result"
    }
   ],
   "source": [
    "corr_matrix = df.corr()\n",
    "corr_matrix[\"Outcome\"].sort_values(ascending=False)"
   ]
  },
  {
   "cell_type": "markdown",
   "id": "93c58fe0",
   "metadata": {},
   "source": [
    "#### Drop the columns with low correlations (< 0.25)\n",
    "##### Dropped columns: ID, M, Primary.Site, APC, N, MSH2, CDKN2A, Tumor.Size, Radiation, Num.Mutated.Genes, Num.Mutations, Age, Survival.Months, DNMT3A"
   ]
  },
  {
   "cell_type": "code",
   "execution_count": 95,
   "id": "5b471a66",
   "metadata": {},
   "outputs": [],
   "source": [
    "df.drop(columns=['ID', 'M', 'Primary.Site', 'APC', 'N', 'MSH2', 'CDKN2A', 'Tumor.Size', \n",
    "                 'Radiation', 'Num.Mutated.Genes', 'Num.Mutations', 'Age', 'Survival.Months', 'DNMT3A'], inplace=True)"
   ]
  },
  {
   "cell_type": "markdown",
   "id": "df86e72b",
   "metadata": {},
   "source": [
    "# Modeling"
   ]
  },
  {
   "cell_type": "code",
   "execution_count": 106,
   "id": "1bd93c55",
   "metadata": {},
   "outputs": [],
   "source": [
    "X = df.drop(columns=(['Outcome']))\n",
    "y = df['Outcome']"
   ]
  },
  {
   "cell_type": "code",
   "execution_count": 109,
   "id": "379e6c6e",
   "metadata": {},
   "outputs": [
    {
     "name": "stdout",
     "output_type": "stream",
     "text": [
      "0.8245614035087719\n"
     ]
    },
    {
     "name": "stderr",
     "output_type": "stream",
     "text": [
      "C:\\Users\\jbae42\\Anaconda3\\envs\\base2\\lib\\site-packages\\xgboost\\data.py:262: FutureWarning: pandas.Int64Index is deprecated and will be removed from pandas in a future version. Use pandas.Index with the appropriate dtype instead.\n",
      "  elif isinstance(data.columns, (pd.Int64Index, pd.RangeIndex)):\n"
     ]
    }
   ],
   "source": [
    "from sklearn.model_selection import train_test_split\n",
    "from sklearn.ensemble import VotingClassifier, RandomForestClassifier, ExtraTreesClassifier, StackingClassifier, GradientBoostingClassifier, BaggingClassifier \n",
    "from xgboost import XGBClassifier\n",
    "from lightgbm import LGBMClassifier\n",
    "from catboost import CatBoostClassifier    \n",
    "from sklearn.naive_bayes import CategoricalNB\n",
    "from sklearn.linear_model import LogisticRegression\n",
    "from sklearn.metrics import f1_score \n",
    "from sklearn.model_selection import cross_val_score\n",
    "\n",
    "model0 = LogisticRegression()\n",
    "model1 = RandomForestClassifier()\n",
    "model2 = ExtraTreesClassifier()\n",
    "model3 = GradientBoostingClassifier()\n",
    "model4 = BaggingClassifier()\n",
    "model5 = XGBClassifier()\n",
    "model6 = LGBMClassifier()\n",
    "\n",
    "estimators = [('rfc',model1),('xtc',model2),('gbc',model3),('bc',model4),('xgb',model5),('lgbm',model6)]\n",
    "\n",
    "x_train, x_val, y_train, y_val = train_test_split(X, y, test_size=0.3, random_state=42)\n",
    "\n",
    "stacking = StackingClassifier(estimators=estimators, final_estimator=model0, cv=5, n_jobs=-1)\n",
    "\n",
    "stacking.fit(x_train,y_train)\n",
    "pred = stacking.predict(x_val)\n",
    "print(f1_score(y_val, pred, average='micro'))"
   ]
  },
  {
   "cell_type": "markdown",
   "id": "9d6c243a",
   "metadata": {},
   "source": [
    "# Questions"
   ]
  },
  {
   "cell_type": "markdown",
   "id": "40d3b982",
   "metadata": {},
   "source": [
    "## 1.  This data, like our real data, may be messy, incomplete, and/or sparsely documented.\n",
    "##     Please walk us through how you cleaned up this dataset. Do you see any interesting trends?"
   ]
  },
  {
   "cell_type": "markdown",
   "id": "a1990754",
   "metadata": {},
   "source": [
    "#### I first combined the 'genomics' dataset with 'clinical' dataset by extracting the significant features from 'genomics' dataset.\n",
    "#### I created a new dataset with all patient IDs, the 'Outcome' feature, and encoded all 'gene' feature from the 'genomics' dataset as one hot encoding.\n",
    "#### This dataset showed whether each patient had a gene from the 'genomics' dataset (1: had, 0: didn't have). Then I performed a Chi-square test to identify which genes were significant on the 'Outcome' feature.\n",
    "#### It should be also noted that 'T' feature had 'UNK' values which stands for unknown - I changed this to NAs in order to identify them as missing values.\n",
    "#### Once all the missing values are correctly labeled as NA values, I used Datawig to impute the missing values.\n",
    "#### Using SimpleImputer in Datawig, I can assign other features that can be used to predict the missing values. The assigned features were determined based on the correaltion to the target feature (feature with the missing value)"
   ]
  },
  {
   "cell_type": "markdown",
   "id": "24b6869e",
   "metadata": {},
   "source": [
    "## 2. Tell us how you decided which features to use for your model. Are there any new features it might be productive to engineer from the current features?\n",
    "\n"
   ]
  },
  {
   "cell_type": "markdown",
   "id": "bb19296d",
   "metadata": {},
   "source": [
    "#### I selected the features based on the correlation scores. However, I realized after I finished that the calculated correlations are based on the pearson correlation by Pandas' default. The correlation tests should have been done with Chi-square (for the categorical independent varaibles) and point-biserieal correlation (for the numerical indepednet variables). "
   ]
  },
  {
   "cell_type": "markdown",
   "id": "8c5599f9",
   "metadata": {},
   "source": [
    "## 3. Which algorithm did you use for the prediction and why?\n"
   ]
  },
  {
   "cell_type": "markdown",
   "id": "eaa292dc",
   "metadata": {},
   "source": [
    "#### I stacked tree-based classifiers for the prediction. Using StackingClassifier, we can automate which model has more say in the final voting system. Also, using multiple models often outperforms just a single model."
   ]
  },
  {
   "cell_type": "markdown",
   "id": "fe9b429f",
   "metadata": {},
   "source": [
    "## 4. How did you assess the predictive model’s quality? Summarize your findings.\n"
   ]
  },
  {
   "cell_type": "markdown",
   "id": "03300294",
   "metadata": {},
   "source": [
    "#### F1 score was used to assess the model's performance. An F1 score of 82.5% was achieved. The score can be improved by collecting more data or investigating more into EDA.\n",
    "\n",
    "#### Based on the quick look into the data, it seems like there are certain genes that have significant impact on the patients' survival. Some other significant features include histology, tumor stage, tumor grade, and tumore size."
   ]
  },
  {
   "cell_type": "markdown",
   "id": "7fc8b5c2",
   "metadata": {},
   "source": [
    "## 5. Next steps? What might you do with more time or access to additional data or expertise?"
   ]
  },
  {
   "cell_type": "markdown",
   "id": "01a5c75e",
   "metadata": {},
   "source": [
    "#### I would spend more time in the data preparation step if I had more time or access to additional data or expertiese. More features can be generated by combining the existing features with some insights from the expertise. Some limitations that I faced with the given dataset include the dataset size (bigger dataset would have been helpful for the model performance), high number of missing values (degrade the dataset quality), and the given features (as shown in the above code, the features do not show high correlation to the 'Outcome' feature). \n",
    "\n",
    "#### Also, if I had more time, I would run the following codes and select the best performing methods. I would also spend time on hyperparameter tuning for improvements."
   ]
  },
  {
   "cell_type": "markdown",
   "id": "54ec5860",
   "metadata": {},
   "source": [
    "### Alternative 1: Pycaret\n",
    "#### we can quickly build and compare the classification models using Pycaret"
   ]
  },
  {
   "cell_type": "code",
   "execution_count": null,
   "id": "d077cd0c",
   "metadata": {},
   "outputs": [],
   "source": [
    "from pycaret.classification import *\n",
    "\n",
    "print(pycaret.__version__)\n",
    "clf1 = setup(data = df_train,\n",
    "             silent = True,\n",
    "             target = 'Outcome',\n",
    "             session_id = 20220219,\n",
    "             n_jobs = -1)\n",
    "\n",
    "\n",
    "#best = compare_models(n_select=3, fold = 5)\n",
    "best = compare_models(exclude=['knn'], n_select=3)\n",
    "\n",
    "blend_3_soft = blend_models(estimator_list=best, method='hard', choose_better = True)\n",
    "final_blend_3_soft = finalize_model(blend_3_soft)\n",
    "\n",
    "predictions = predict_model(final_blend_3_soft, data = df_test)\n",
    "\n",
    "predictions.to_csv('pred.csv', index=False)\n",
    "\n",
    "from sklearn.metrics import f1_score, recall_score\n",
    "\n",
    "f1 = f1_score(df_test['Outcome'], predictions['Label'], average='macro')\n",
    "recall = recall_score(df_test['Outcome'], predictions['Label'], average='macro')\n",
    "print(\"F1 Score= \",f1)\n",
    "print(\"Recall= \", recall)"
   ]
  },
  {
   "cell_type": "markdown",
   "id": "bb24b65a",
   "metadata": {},
   "source": [
    "### Alternative 2: Selecting Top-performing Estimators based on F1 Score"
   ]
  },
  {
   "cell_type": "code",
   "execution_count": null,
   "id": "89bb366b",
   "metadata": {},
   "outputs": [],
   "source": [
    "model0 = LogisticRegression()\n",
    "model1 = RandomForestClassifier()\n",
    "model2 = ExtraTreesClassifier()\n",
    "model3 = GradientBoostingClassifier()\n",
    "model4 = BaggingClassifier()\n",
    "model5 = XGBClassifier()\n",
    "model6 = LGBMClassifier()\n",
    "\n",
    "estimators = [('rfc',model1),('xtc',model2),('gbc',model3),('bc',model4),('xgb',model5),('lgbm',model6)]\n",
    "\n",
    "kf = KFold(n_splits=10, shuffle=True, random_state=42)\n",
    "i = 0\n",
    "for name, model in estimators:\n",
    "    for tr_idx, val_idx in kf.split(X):\n",
    "        x_train, y_train = X.iloc[tr_idx], y.iloc[tr_idx]\n",
    "        x_val, y_val = X.iloc[val_idx], y.iloc[val_idx]\n",
    "        \n",
    "        model.fit(x_train, y_train)\n",
    "        result.loc[i, 'model'] = name\n",
    "        result.loc[i, 'f1score'] = f1_score(y_val, model.predict(x_val), average='micro')\n",
    "        \n",
    "        i += 1\n",
    "\n",
    "final_estimator ### SELECT TOP PERFORMING ESTIMATORS HERE ###\n",
    "        \n",
    "x_train, x_val, y_train, y_val = train_test_split(X, y, test_size=0.3, random_state=42)\n",
    "\n",
    "stacking = StackingClassifier(estimators=estimators, final_estimator=model0, cv=5, n_jobs=-1)\n",
    "\n",
    "stacking.fit(x_train,y_train)\n",
    "pred = stacking.predict(x_val)\n",
    "print(f1_score(y_val, pred, average='micro'))"
   ]
  },
  {
   "cell_type": "markdown",
   "id": "8dc074d7",
   "metadata": {},
   "source": [
    "### Alternative 3: Blending the Models\n",
    "#### Sometimes, simple blending (taking the average of the models' predictions) outperforms the stacking method"
   ]
  }
 ],
 "metadata": {
  "kernelspec": {
   "display_name": "Python 3 (ipykernel)",
   "language": "python",
   "name": "python3"
  },
  "language_info": {
   "codemirror_mode": {
    "name": "ipython",
    "version": 3
   },
   "file_extension": ".py",
   "mimetype": "text/x-python",
   "name": "python",
   "nbconvert_exporter": "python",
   "pygments_lexer": "ipython3",
   "version": "3.8.12"
  }
 },
 "nbformat": 4,
 "nbformat_minor": 5
}
